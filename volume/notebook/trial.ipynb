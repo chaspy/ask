{
 "cells": [
  {
   "cell_type": "code",
   "execution_count": 1,
   "metadata": {},
   "outputs": [
    {
     "name": "stdout",
     "output_type": "stream",
     "text": [
      "/data/project/ask/volume/notebook\n"
     ]
    },
    {
     "data": {
      "text/plain": [
       "Process(`\u001b[4mpwd\u001b[24m`, ProcessExited(0))"
      ]
     },
     "execution_count": 1,
     "metadata": {},
     "output_type": "execute_result"
    }
   ],
   "source": [
    "#run(`cd ../samp_app`)\n",
    "run(`pwd`)"
   ]
  },
  {
   "cell_type": "code",
   "execution_count": 5,
   "metadata": {},
   "outputs": [
    {
     "data": {
      "text/plain": [
       "Process(`\u001b[4mcd\u001b[24m \u001b[4m..\u001b[24m`, ProcessExited(0))"
      ]
     },
     "execution_count": 5,
     "metadata": {},
     "output_type": "execute_result"
    }
   ],
   "source": [
    "run(`cd ..`)"
   ]
  },
  {
   "cell_type": "code",
   "execution_count": 2,
   "metadata": {},
   "outputs": [],
   "source": [
    "using Genie"
   ]
  },
  {
   "cell_type": "code",
   "execution_count": 7,
   "metadata": {},
   "outputs": [
    {
     "name": "stdout",
     "output_type": "stream",
     "text": [
      "\u001b[35m _____         _\u001b[39m\n",
      "\u001b[35m|   __|___ ___|_|___\u001b[39m\n",
      "\u001b[35m|  |  | -_|   | | -_|\u001b[39m\n",
      "\u001b[35m|_____|___|_|_|_|___|\u001b[39m\n",
      "\n",
      "\n",
      "\u001b[32mStarting Genie in >> DEV << mode \u001b[39m\n",
      "\n"
     ]
    },
    {
     "name": "stderr",
     "output_type": "stream",
     "text": [
      "WARNING: replacing module App.\n",
      "WARNING: replacing module Toolbox.\n"
     ]
    },
    {
     "ename": "LoadError",
     "evalue": "invalid redefinition of constant App",
     "output_type": "error",
     "traceback": [
      "invalid redefinition of constant App",
      "",
      "Stacktrace:",
      " [1] top-level scope at none:0",
      " [2] eval(::Module, ::Any) at ./boot.jl:319",
      " [3] top-level scope at none:0",
      " [4] include at ./boot.jl:317 [inlined]",
      " [5] include_relative(::Module, ::String) at ./loading.jl:1044",
      " [6] include(::Module, ::String) at ./sysimg.jl:29",
      " [7] include(::String) at ./client.jl:392",
      " [8] top-level scope at none:0",
      " [9] eval(::Module, ::Any) at ./boot.jl:319",
      " [10] #load_app#4(::Bool, ::Function, ::String) at /Users/hiroto/.julia/packages/Genie/bYxnc/src/REPL.jl:75",
      " [11] load_app(::String) at /Users/hiroto/.julia/packages/Genie/bYxnc/src/REPL.jl:75",
      " [12] top-level scope at In[7]:1"
     ]
    }
   ],
   "source": [
    "Genie.REPL.load_app(\"../samp_app\")"
   ]
  },
  {
   "cell_type": "markdown",
   "metadata": {},
   "source": [
    "## DBの設定"
   ]
  },
  {
   "cell_type": "code",
   "execution_count": 18,
   "metadata": {},
   "outputs": [],
   "source": [
    "using SearchLight"
   ]
  },
  {
   "cell_type": "code",
   "execution_count": 6,
   "metadata": {},
   "outputs": [
    {
     "data": {
      "text/plain": [
       "\"SQLite\""
      ]
     },
     "execution_count": 6,
     "metadata": {},
     "output_type": "execute_result"
    }
   ],
   "source": [
    "SearchLight.config.db_config_settings[\"adapter\"] = \"SQLite\""
   ]
  },
  {
   "cell_type": "markdown",
   "metadata": {},
   "source": [
    "公式の方法はうまくいかない。 "
   ]
  },
  {
   "cell_type": "code",
   "execution_count": 21,
   "metadata": {},
   "outputs": [
    {
     "data": {
      "text/plain": [
       "Dict{String,Any} with 0 entries"
      ]
     },
     "execution_count": 21,
     "metadata": {},
     "output_type": "execute_result"
    }
   ],
   "source": [
    "SearchLight.Configuration.load_db_connection()"
   ]
  },
  {
   "cell_type": "code",
   "execution_count": 14,
   "metadata": {},
   "outputs": [
    {
     "ename": "ErrorException",
     "evalue": "cannot assign variables in other modules",
     "output_type": "error",
     "traceback": [
      "cannot assign variables in other modules",
      "",
      "Stacktrace:",
      " [1] setproperty!(::Module, ::Symbol, ::String) at ./sysimg.jl:14",
      " [2] top-level scope at In[14]:1"
     ]
    }
   ],
   "source": [
    "SearchLight.CONFIG_PATH = \"/data/project/ask/volume/samp_app/config/\""
   ]
  },
  {
   "cell_type": "code",
   "execution_count": 20,
   "metadata": {},
   "outputs": [
    {
     "data": {
      "text/plain": [
       "\"/data/project/ask/volume/samp_app/config/\""
      ]
     },
     "execution_count": 20,
     "metadata": {},
     "output_type": "execute_result"
    }
   ],
   "source": [
    "Base.eval(SearchLight, :(CONFIG_PATH = \"/data/project/ask/volume/samp_app/config/\"))"
   ]
  },
  {
   "cell_type": "code",
   "execution_count": null,
   "metadata": {},
   "outputs": [],
   "source": [
    "SearchLight.Configuration."
   ]
  },
  {
   "cell_type": "code",
   "execution_count": 10,
   "metadata": {},
   "outputs": [
    {
     "data": {
      "text/plain": [
       "\"database.yml\""
      ]
     },
     "execution_count": 10,
     "metadata": {},
     "output_type": "execute_result"
    }
   ],
   "source": [
    "SearchLight.SEARCHLIGHT_DB_CONFIG_FILE_NAME"
   ]
  },
  {
   "cell_type": "code",
   "execution_count": 13,
   "metadata": {},
   "outputs": [
    {
     "data": {
      "text/plain": [
       "\"/data/project/ask/config\""
      ]
     },
     "execution_count": 13,
     "metadata": {},
     "output_type": "execute_result"
    }
   ],
   "source": [
    "SearchLight.CONFIG_PATH = \"/data/project/ask/\""
   ]
  },
  {
   "cell_type": "code",
   "execution_count": 15,
   "metadata": {},
   "outputs": [
    {
     "data": {
      "text/plain": [
       "\"dev\""
      ]
     },
     "execution_count": 15,
     "metadata": {},
     "output_type": "execute_result"
    }
   ],
   "source": [
    "SearchLight.config.app_env"
   ]
  },
  {
   "cell_type": "code",
   "execution_count": 16,
   "metadata": {},
   "outputs": [
    {
     "ename": "KeyError",
     "evalue": "KeyError: key \"SEARCHLIGHT_ENV\" not found",
     "output_type": "error",
     "traceback": [
      "KeyError: key \"SEARCHLIGHT_ENV\" not found",
      "",
      "Stacktrace:",
      " [1] (::getfield(Base, Symbol(\"##417#418\")))(::String) at ./env.jl:76",
      " [2] access_env at ./env.jl:45 [inlined]",
      " [3] getindex(::Base.EnvDict, ::String) at ./env.jl:76",
      " [4] top-level scope at In[16]:1"
     ]
    }
   ],
   "source": [
    "ENV[\"SEARCHLIGHT_ENV\"]"
   ]
  },
  {
   "cell_type": "code",
   "execution_count": 22,
   "metadata": {},
   "outputs": [
    {
     "ename": "ErrorException",
     "evalue": "type DataType has no field log_db",
     "output_type": "error",
     "traceback": [
      "type DataType has no field log_db",
      "",
      "Stacktrace:",
      " [1] getproperty(::Type, ::Symbol) at ./sysimg.jl:15",
      " [2] top-level scope at In[22]:1"
     ]
    }
   ],
   "source": [
    "SearchLight.Configuration.Settings.log_db"
   ]
  },
  {
   "cell_type": "markdown",
   "metadata": {},
   "source": [
    "ソースを読んで、以下はできた。"
   ]
  },
  {
   "cell_type": "code",
   "execution_count": 22,
   "metadata": {},
   "outputs": [
    {
     "data": {
      "text/plain": [
       "Dict{String,Any} with 7 entries:\n",
       "  \"host\"     => nothing\n",
       "  \"password\" => nothing\n",
       "  \"config\"   => nothing\n",
       "  \"username\" => nothing\n",
       "  \"port\"     => nothing\n",
       "  \"database\" => \"db/ask.sqlite\"\n",
       "  \"adapter\"  => \"SQLite\""
      ]
     },
     "execution_count": 22,
     "metadata": {},
     "output_type": "execute_result"
    }
   ],
   "source": [
    "SearchLight.Configuration.read_db_connection_data(joinpath(Genie.CONFIG_PATH, Genie.GENIE_DB_CONFIG_FILE_NAME))"
   ]
  },
  {
   "cell_type": "code",
   "execution_count": 24,
   "metadata": {},
   "outputs": [
    {
     "data": {
      "text/plain": [
       "Dict{String,Any} with 7 entries:\n",
       "  \"host\"     => nothing\n",
       "  \"password\" => nothing\n",
       "  \"config\"   => nothing\n",
       "  \"username\" => nothing\n",
       "  \"port\"     => nothing\n",
       "  \"database\" => \"db/ask.sqlite\"\n",
       "  \"adapter\"  => \"SQLite\""
      ]
     },
     "execution_count": 24,
     "metadata": {},
     "output_type": "execute_result"
    }
   ],
   "source": [
    "SearchLight.Configuration.read_db_connection_data(joinpath(SearchLight.CONFIG_PATH, SearchLight.SEARCHLIGHT_DB_CONFIG_FILE_NAME))"
   ]
  },
  {
   "cell_type": "code",
   "execution_count": 27,
   "metadata": {},
   "outputs": [
    {
     "data": {
      "text/plain": [
       "Dict{String,Any} with 7 entries:\n",
       "  \"host\"     => nothing\n",
       "  \"password\" => nothing\n",
       "  \"config\"   => nothing\n",
       "  \"username\" => nothing\n",
       "  \"port\"     => nothing\n",
       "  \"database\" => \"db/ask.sqlite\"\n",
       "  \"adapter\"  => \"SQLite\""
      ]
     },
     "execution_count": 27,
     "metadata": {},
     "output_type": "execute_result"
    }
   ],
   "source": [
    "SearchLight.Configuration._load_db_connection()"
   ]
  },
  {
   "cell_type": "code",
   "execution_count": 28,
   "metadata": {},
   "outputs": [
    {
     "data": {
      "text/plain": [
       "Dict{String,Any} with 0 entries"
      ]
     },
     "execution_count": 28,
     "metadata": {},
     "output_type": "execute_result"
    }
   ],
   "source": [
    "SearchLight.Configuration.load_db_connection()"
   ]
  },
  {
   "cell_type": "code",
   "execution_count": 28,
   "metadata": {},
   "outputs": [
    {
     "data": {
      "text/plain": [
       "Main.CreateTableAsk"
      ]
     },
     "execution_count": 28,
     "metadata": {},
     "output_type": "execute_result"
    }
   ],
   "source": [
    "module CreateTableAsk\n",
    "\n",
    "import SearchLight.Migrations: create_table, column, primary_key, add_index, drop_table\n",
    "\n",
    "function up()\n",
    "  create_table(:ask) do\n",
    "    [\n",
    "      primary_key()\n",
    "      column(:id, :string)\n",
    "      column(:question, :string)\n",
    "      column(:user_id, :string)\n",
    "    ]\n",
    "  end\n",
    "\n",
    "  add_index(:ask, :id)\n",
    "  add_index(:ask, :question)\n",
    "  add_index(:ask, :user_id)\n",
    "end\n",
    "\n",
    "function down()\n",
    "  drop_table(:ask)\n",
    "end\n",
    "\n",
    "end"
   ]
  },
  {
   "cell_type": "code",
   "execution_count": 30,
   "metadata": {},
   "outputs": [
    {
     "ename": "UndefVarError",
     "evalue": "UndefVarError: DatabaseAdapter not defined",
     "output_type": "error",
     "traceback": [
      "UndefVarError: DatabaseAdapter not defined",
      "",
      "Stacktrace:",
      " [1] create_migrations_table(::String) at /Users/hiroto/.julia/packages/SearchLight/MgMHp/src/SearchLight.jl:3800 (repeats 2 times)",
      " [2] db_init() at /Users/hiroto/.julia/packages/SearchLight/MgMHp/src/SearchLight.jl:3803",
      " [3] top-level scope at In[30]:1"
     ]
    }
   ],
   "source": [
    "SearchLight.db_init()"
   ]
  },
  {
   "cell_type": "code",
   "execution_count": null,
   "metadata": {},
   "outputs": [],
   "source": []
  }
 ],
 "metadata": {
  "kernelspec": {
   "display_name": "Julia 1.0.3",
   "language": "julia",
   "name": "julia-1.0"
  },
  "language_info": {
   "file_extension": ".jl",
   "mimetype": "application/julia",
   "name": "julia",
   "version": "1.0.3"
  }
 },
 "nbformat": 4,
 "nbformat_minor": 2
}
